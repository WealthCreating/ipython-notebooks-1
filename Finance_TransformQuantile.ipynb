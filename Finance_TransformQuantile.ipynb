{
 "metadata": {
  "name": "Finance_TransformQuantile"
 },
 "nbformat": 3,
 "nbformat_minor": 0,
 "worksheets": [
  {
   "cells": [
    {
     "cell_type": "code",
     "collapsed": true,
     "input": [
      "from pandas import Series, DataFrame\n",
      "\n",
      "import pandas as pd\n",
      "\n",
      "import matplotlib as mpl\n",
      "\n",
      "import random, string\n",
      "\n",
      "\n",
      "\n",
      "pd.set_printoptions(notebook_repr_html=False)\n",
      "\n",
      "\n",
      "\n",
      "def rands(n):\n",
      "\n",
      "    choices = string.ascii_letters\n",
      "\n",
      "    return ''.join([random.choice(choices) for _ in xrange(n)])\n",
      "\n",
      "mpl.rc('figure', figsize=(12, 8))\n",
      "\n",
      "\n",
      "\n",
      "ind_names = np.array(['ENERGY', 'FINANCIAL', 'TECH', \n",
      "\n",
      "                      'CONSDUR', 'SERVICES', 'UTILITIES'], dtype='O')\n",
      "\n",
      "\n",
      "\n",
      "Nfull = 2000\n",
      "\n",
      "tickers = np.array(sorted(rands(5).upper() for _ in xrange(Nfull)), dtype='O')\n",
      "\n",
      "tickers = np.unique(tickers)\n",
      "\n",
      "\n",
      "\n",
      "industries = Series(ind_names.take(np.random.randint(0, 6, Nfull)), \n",
      "\n",
      "                    index=tickers, name='industry')"
     ],
     "language": "python",
     "metadata": {},
     "outputs": []
    },
    {
     "cell_type": "code",
     "collapsed": false,
     "input": [
      "df = DataFrame({'Momentum' : np.random.randn(1000) / 200 + 0.03,\n",
      "\n",
      "                'Value' : np.random.randn(1000) / 200 + 0.08,\n",
      "\n",
      "                'ShortInterest' : np.random.randn(1000) / 200 - 0.02},\n",
      "\n",
      "                index=tickers.take(np.random.permutation(Nfull)[:1000]))\n",
      "\n",
      "df"
     ],
     "language": "python",
     "metadata": {},
     "outputs": []
    },
    {
     "cell_type": "code",
     "collapsed": false,
     "input": [
      "df[:10]"
     ],
     "language": "python",
     "metadata": {},
     "outputs": []
    },
    {
     "cell_type": "code",
     "collapsed": false,
     "input": [
      "df.corr()"
     ],
     "language": "python",
     "metadata": {},
     "outputs": []
    },
    {
     "cell_type": "code",
     "collapsed": false,
     "input": [
      "industries[:10]"
     ],
     "language": "python",
     "metadata": {},
     "outputs": []
    },
    {
     "cell_type": "code",
     "collapsed": false,
     "input": [
      "industries.unique()"
     ],
     "language": "python",
     "metadata": {},
     "outputs": []
    },
    {
     "cell_type": "code",
     "collapsed": false,
     "input": [
      "df['industry'] = industries\n",
      "\n",
      "df[:10]"
     ],
     "language": "python",
     "metadata": {},
     "outputs": []
    },
    {
     "cell_type": "code",
     "collapsed": true,
     "input": [
      "del df['industry']"
     ],
     "language": "python",
     "metadata": {},
     "outputs": []
    },
    {
     "cell_type": "code",
     "collapsed": false,
     "input": [
      "result = df.groupby(industries).describe()\n",
      "\n",
      "result.ix[['CONSDUR', 'ENERGY']]"
     ],
     "language": "python",
     "metadata": {},
     "outputs": []
    },
    {
     "cell_type": "code",
     "collapsed": false,
     "input": [
      "result.ix[:, 'mean']"
     ],
     "language": "python",
     "metadata": {},
     "outputs": []
    },
    {
     "cell_type": "code",
     "collapsed": false,
     "input": [
      "df.groupby(industries).std()"
     ],
     "language": "python",
     "metadata": {},
     "outputs": []
    },
    {
     "cell_type": "code",
     "collapsed": false,
     "input": [
      "rng = df.groupby(industries).agg(lambda x: x.max() - x.min())\n",
      "\n",
      "rng\n",
      "\n",
      "rng.plot(kind='barh', stacked=True)"
     ],
     "language": "python",
     "metadata": {},
     "outputs": []
    },
    {
     "cell_type": "code",
     "collapsed": true,
     "input": [
      "# Within-Industry Standardize\n",
      "\n",
      "zscore = lambda x: (x - x.mean()) / x.std()\n",
      "\n",
      "df2 = df.groupby(industries).apply(zscore)"
     ],
     "language": "python",
     "metadata": {},
     "outputs": []
    },
    {
     "cell_type": "code",
     "collapsed": false,
     "input": [
      "df2.groupby(industries).agg(['mean', 'std'])"
     ],
     "language": "python",
     "metadata": {},
     "outputs": []
    },
    {
     "cell_type": "code",
     "collapsed": false,
     "input": [
      "df.Momentum.rank()"
     ],
     "language": "python",
     "metadata": {},
     "outputs": []
    },
    {
     "cell_type": "code",
     "collapsed": false,
     "input": [
      "# Within-industry rank\n",
      "\n",
      "ind_rank = df.groupby(industries).rank()\n",
      "\n",
      "ind_rank.groupby(industries).agg(['min', 'max'])"
     ],
     "language": "python",
     "metadata": {},
     "outputs": []
    },
    {
     "cell_type": "code",
     "collapsed": true,
     "input": [
      "# Industry rank and standardize\n",
      "\n",
      "df.groupby(industries).apply(lambda x: zscore(x.rank()))"
     ],
     "language": "python",
     "metadata": {},
     "outputs": []
    },
    {
     "cell_type": "code",
     "collapsed": false,
     "input": [
      "betas = Series(np.random.rand(Nfull) * 2, index=tickers)\n",
      "\n",
      "betas"
     ],
     "language": "python",
     "metadata": {},
     "outputs": []
    },
    {
     "cell_type": "code",
     "collapsed": false,
     "input": [
      "# Beta neutral\n",
      "\n",
      "pd.ols(y=df.Momentum, x=betas, intercept=False).beta"
     ],
     "language": "python",
     "metadata": {},
     "outputs": []
    },
    {
     "cell_type": "code",
     "collapsed": false,
     "input": [
      "bn_port = pd.ols(y=df.Momentum, x=betas, intercept=False).resid\n",
      "\n",
      "bn_port"
     ],
     "language": "python",
     "metadata": {},
     "outputs": []
    },
    {
     "cell_type": "code",
     "collapsed": false,
     "input": [
      "pd.ols(y=bn_port, x=betas, intercept=False).beta"
     ],
     "language": "python",
     "metadata": {},
     "outputs": []
    },
    {
     "cell_type": "code",
     "collapsed": false,
     "input": [
      "def beta_exposure(port):\n",
      "\n",
      "    return pd.ols(y=port, x=betas, intercept=False).beta['x']\n",
      "\n",
      "\n",
      "\n",
      "df.groupby(industries).agg(beta_exposure)"
     ],
     "language": "python",
     "metadata": {},
     "outputs": []
    },
    {
     "cell_type": "code",
     "collapsed": true,
     "input": [
      "def beta_neutral(port):\n",
      "\n",
      "    return pd.ols(y=port, x=betas, intercept=False).resid\n",
      "\n",
      "\n",
      "\n",
      "def beta_dollar_neutral(port):\n",
      "\n",
      "    return pd.ols(y=port, x=betas).resid\n",
      "\n",
      "\n",
      "\n",
      "bn_ports = df.groupby(industries).transform(beta_neutral)\n",
      "\n",
      "bdn_ports = df.groupby(industries).transform(beta_dollar_neutral)"
     ],
     "language": "python",
     "metadata": {},
     "outputs": []
    },
    {
     "cell_type": "code",
     "collapsed": false,
     "input": [
      "bdn_ports.groupby(industries).agg(beta_exposure)"
     ],
     "language": "python",
     "metadata": {},
     "outputs": []
    },
    {
     "cell_type": "markdown",
     "metadata": {},
     "source": [
      "Simple 500 momentum strategy\n",
      "\n",
      "============"
     ]
    },
    {
     "cell_type": "code",
     "collapsed": false,
     "input": [
      "from pandas.io.data import get_data_yahoo\n",
      "\n",
      "data = get_data_yahoo('CMG', '1990-01-01')"
     ],
     "language": "python",
     "metadata": {},
     "outputs": []
    },
    {
     "cell_type": "code",
     "collapsed": false,
     "input": [
      "def trend_signal(returns, lag=3, lookback=60):\n",
      "\n",
      "    signal = pd.rolling_sum(returns, lookback, min_periods=lookback - 5)\n",
      "\n",
      "    return signal.shift(lag)\n",
      "\n",
      "\n",
      "\n",
      "px = data['Adj Close']\n",
      "\n",
      "returns = px.pct_change()"
     ],
     "language": "python",
     "metadata": {},
     "outputs": []
    },
    {
     "cell_type": "code",
     "collapsed": false,
     "input": [
      "vol = pd.rolling_std(returns, 250, min_periods=200) * np.sqrt(250)"
     ],
     "language": "python",
     "metadata": {},
     "outputs": []
    },
    {
     "cell_type": "code",
     "collapsed": false,
     "input": [
      "vol.plot()"
     ],
     "language": "python",
     "metadata": {},
     "outputs": []
    },
    {
     "cell_type": "code",
     "collapsed": true,
     "input": [
      "def sharpe(rets, ann=250):\n",
      "\n",
      "    return rets.mean() / rets.std()  * np.sqrt(ann)"
     ],
     "language": "python",
     "metadata": {},
     "outputs": []
    },
    {
     "cell_type": "code",
     "collapsed": false,
     "input": [
      "signal = trend_signal(returns, lookback=100, lag=3)\n",
      "\n",
      "trade_friday = signal.resample('W-FRI').resample('B', fill_method='ffill')\n",
      "\n",
      "\n",
      "\n",
      "adj_signal = trade_friday / vol\n",
      "\n",
      "\n",
      "\n",
      "prets = adj_signal.shift(1) * returns\n",
      "\n",
      "prets.cumsum().plot()\n",
      "\n",
      "sharpe(prets)"
     ],
     "language": "python",
     "metadata": {},
     "outputs": []
    },
    {
     "cell_type": "code",
     "collapsed": false,
     "input": [],
     "language": "python",
     "metadata": {},
     "outputs": []
    },
    {
     "cell_type": "code",
     "collapsed": false,
     "input": [
      "adj_signal.plot()"
     ],
     "language": "python",
     "metadata": {},
     "outputs": []
    },
    {
     "cell_type": "code",
     "collapsed": false,
     "input": [
      "prets.groupby(pd.qcut(vol, 4)).agg(sharpe)"
     ],
     "language": "python",
     "metadata": {},
     "outputs": []
    },
    {
     "cell_type": "code",
     "collapsed": true,
     "input": [],
     "language": "python",
     "metadata": {},
     "outputs": []
    }
   ],
   "metadata": {}
  }
 ]
}