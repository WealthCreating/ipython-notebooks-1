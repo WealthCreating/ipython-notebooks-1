{
 "metadata": {
  "name": "Principal Component Analysis"
 },
 "nbformat": 3,
 "nbformat_minor": 0,
 "worksheets": [
  {
   "cells": [
    {
     "cell_type": "markdown",
     "metadata": {},
     "source": [
      "# Principal components analysis\n",
      "\n",
      "What are principal components?\n",
      "\n",
      "We have a random vector (actually a column vector)\n",
      "\n",
      "$$\n",
      "\\mathbf{X}^\\prime = [X_1, X_2, X_3, \\dots, X_n]\n",
      "$$\n",
      "\n",
      "Let us do a linear transformation\n",
      "\n",
      "$$\n",
      "\\mathbf{Y} = \\mathbf{LX}\n",
      "$$\n",
      "\n",
      "<!-- where\n",
      "\n",
      "$$\n",
      "\\begin{aligned}\n",
      "Y_1 & = l_1^\\prime \\mathbf{X} = l_{11}X_1 + l_{21}X_2 + \\dots + l_{n1}X_n \\\\\\\\\n",
      "Y_2 & = l_2^\\prime \\mathbf{X} = l_{12}X_1 + l_{22}X_2 + \\dots + l_{n2}X_n \\\\\\\\\n",
      "\\vdots & \\\\\\\\\n",
      "Y_n & = l_n^\\prime \\mathbf{X} = l_{1n}X_1 + l_{2n}X_2 + \\dots + l_{nn}X_n\n",
      "\\end{aligned}\n",
      "$$ -->\n",
      "\n",
      "The resulting vector has:\n",
      "\n",
      "$$\n",
      "\\begin{aligned}\n",
      "\\mathrm{Var}(Y_i) = l_i^\\prime\\mathbf{\\Sigma}l_i \\\\\\\\\n",
      "\\mathrm{Cov}(Y_i, Y_j) = l_i^\\prime\\mathbf{\\Sigma}l_j \\\\\\\\\n",
      "\\end{aligned}\n",
      "$$\n",
      "\n",
      "For a special transformation the resulting random vector $\\mathbf{Y}$ variances are as large as possible and the random variables are also independent $\\mathrm{Cov}(Y_i, Y_j) = 0, \\forall\\, i \\neq j$.\n",
      "Those random variables are the *principal components*."
     ]
    },
    {
     "cell_type": "code",
     "collapsed": false,
     "input": [
      "import os\n"
     ],
     "language": "python",
     "metadata": {},
     "outputs": [],
     "prompt_number": 1
    },
    {
     "cell_type": "code",
     "collapsed": false,
     "input": [
      "os.curdir"
     ],
     "language": "python",
     "metadata": {},
     "outputs": [
      {
       "output_type": "pyout",
       "prompt_number": 7,
       "text": [
        "'.'"
       ]
      }
     ],
     "prompt_number": 7
    },
    {
     "cell_type": "code",
     "collapsed": false,
     "input": [
      "os.path"
     ],
     "language": "python",
     "metadata": {},
     "outputs": [
      {
       "output_type": "pyout",
       "prompt_number": 8,
       "text": [
        "<module 'posixpath' from '/usr/local/Cellar/python/2.7.3/lib/python2.7/posixpath.pyc'>"
       ]
      }
     ],
     "prompt_number": 8
    },
    {
     "cell_type": "code",
     "collapsed": false,
     "input": [
      "os.path.abspath(os.curdir)"
     ],
     "language": "python",
     "metadata": {},
     "outputs": [
      {
       "output_type": "pyout",
       "prompt_number": 12,
       "text": [
        "'/Users/wilson'"
       ]
      }
     ],
     "prompt_number": 12
    },
    {
     "cell_type": "code",
     "collapsed": false,
     "input": [],
     "language": "python",
     "metadata": {},
     "outputs": []
    },
    {
     "cell_type": "code",
     "collapsed": false,
     "input": [],
     "language": "python",
     "metadata": {},
     "outputs": []
    },
    {
     "cell_type": "code",
     "collapsed": false,
     "input": [],
     "language": "python",
     "metadata": {},
     "outputs": []
    }
   ],
   "metadata": {}
  }
 ]
}