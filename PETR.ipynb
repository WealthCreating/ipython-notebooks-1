{
 "metadata": {
  "name": ""
 },
 "nbformat": 3,
 "nbformat_minor": 0,
 "worksheets": [
  {
   "cells": [
    {
     "cell_type": "code",
     "collapsed": false,
     "input": [
      "import numpy as np\n",
      "import matplotlib.pyplot as plt\n",
      "import pandas as pd\n",
      "%pylab inline\n",
      "print pd.__version__"
     ],
     "language": "python",
     "metadata": {},
     "outputs": [
      {
       "output_type": "stream",
       "stream": "stdout",
       "text": [
        "Populating the interactive namespace from numpy and matplotlib\n",
        "0.12.0\n"
       ]
      }
     ],
     "prompt_number": 10
    },
    {
     "cell_type": "markdown",
     "metadata": {},
     "source": [
      "## Que 2014 seja um ano melhor para a Petrobr\u00e1s\n",
      "\n",
      "O objetivo aqui \u00e9 tentar reproduzir os resultados [deste *post*](http://www.opequenoinvestidor.com.br/2014/01/que-2014-seja-finalmente-um-novo-ano-para-petrobras/) (do blog [o pequeno investidor](http://www.opequenoinvestidor.com.br/)) que avalia alguns indicadores da Petrobr\u00e1s no cen\u00e1rio atual, come\u00e7o de 2014, utilizando Python e alguns pacotes do *stack* cient\u00edfico.\n",
      "\n",
      "Vamos come\u00e7as importando os dados e para isso vamos utilizar o **pandas**.\n",
      "**pandas** possui uma classe denominada ``DataFrame`` que pode carregar dados em formator h\u00edbridos em uma estrutura tabular.\n",
      "Isso \u00e9 muito legal porque em muitos casos os dados n\u00e3o est\u00e3o em formatos num\u00e9ricos e frequentemente \u00e9 necess\u00e1rio, mesmo em dados num\u00e9ricos, que eles sejam categorizados e ao inv\u00e9s de utilizar c\u00f3digos sem sentido podemos lan\u00e7ar m\u00e3o de identificadores de texto.\n",
      "Mas felizmente os dados que vamos come\u00e7ar a an\u00e1lisar s\u00e3o num\u00e9ricos e representam o a Demostra\u00e7\u00e3o de Resultados da Petrobr\u00e1s.\n",
      "Estes dados foram obtidos do site [Fundamentus](http://www.fundamentus.com.br/) que organiza as informa\u00e7\u00f5es hist\u00f3ricas de Balan\u00e7o e Demostra\u00e7\u00e3o de Resultados para diversas empresas, de gra\u00e7a!\n",
      "\n",
      "Vamos come\u00e7ar a an\u00e1lise observando os dados de resultados operacionais da Petrobr\u00e1s: **Receita L\u00edquida** e **Lucro L\u00edquido**. Estas vari\u00e1veis se encontram no Demonstrativo de Resultados da empresa, e est\u00e3o no arquivo ``PETR balanco - T Dem. Result.csv``. Vamos come\u00e7ar dando uma olhada nesse arquivo."
     ]
    },
    {
     "cell_type": "code",
     "collapsed": false,
     "input": [
      "!head -3 'PETR balanco - T Dem. Result.csv'"
     ],
     "language": "python",
     "metadata": {},
     "outputs": [
      {
       "output_type": "stream",
       "stream": "stdout",
       "text": [
        "Data,Receita Bruta de Vendas e/ou Servi\u00e7os,Dedu\u00e7\u00f5es da Receita Bruta,Receita L\u00edquida de Vendas e/ou Servi\u00e7os,Custo de Bens e/ou Servi\u00e7os Vendidos,Resultado Bruto,Despesas Com Vendas,Despesas Gerais e Administrativas,Perdas pela N\u00e3o Recuperabilidade de Ativos\u00a0,Outras Receitas Operacionais,Outras Despesas Operacionais,Resultado da Equival\u00eancia Patrimonial,Financeiras,Receitas Financeiras,Despesas Financeiras,Resultado N\u00e3o Operacional,Receitas,Despesas,Resultado Antes Tributa\u00e7\u00e3o/Participa\u00e7\u00f5es,Provis\u00e3o para IR e Contribui\u00e7\u00e3o Social,IR Diferido,Participa\u00e7\u00f5es/Contribui\u00e7\u00f5es Estatut\u00e1rias,Revers\u00e3o dos Juros sobre Capital Pr\u00f3prio,Part. de Acionistas N\u00e3o Controladores,Lucro/Preju\u00edzo do Per\u00edodo\r\n",
        "30/09/2013,0,0,77700317.18,-61114642.43,16585674.75,-2862032.896,-2802718.976,0,0,-5426829.824,493439.008,-1020598.976,1205330.944,-2225929.984,0,0,0,4966932.992,590804.992,-2015576.96,0,0,-147488.992,3394672.128\r\n",
        "30/06/2013,0,0,73626247.17,-54919024.64,18707228.67,-2552424.96,-2589590.016,0,0,-2458756.096,389620,-3550694.912,909123.968,-4459819.008,0,0,0,7945380.864,793974.976,-3060443.904,0,0,522078.016,6200990.208\r\n"
       ]
      }
     ],
     "prompt_number": 16
    },
    {
     "cell_type": "markdown",
     "metadata": {},
     "source": [
      "Bem, j\u00e1 d\u00e1 pra ver que os nomes das colunas n\u00e3o s\u00e3o religiosos o que j\u00e1 implica no esfor\u00e7o de renomear algumas colunas para tornar a manipula\u00e7\u00e3o mais simples. Outra coisa \u00e9 o formato de data, que no Brasil \u00e9 dia/m\u00eas/ano.\n",
      "Para o **pandas** isso n\u00e3o \u00e9 um problema como veremos, com algumas op\u00e7\u00f5es vamos importar o arquivo sem maiores problemas."
     ]
    },
    {
     "cell_type": "code",
     "collapsed": false,
     "input": [
      "dem_result = pd.read_csv('PETR balanco - T Dem. Result.csv', parse_dates=[0], dayfirst=True)\n",
      "dem_result"
     ],
     "language": "python",
     "metadata": {},
     "outputs": [
      {
       "html": [
        "<pre>\n",
        "&lt;class 'pandas.core.frame.DataFrame'&gt;\n",
        "Int64Index: 32 entries, 0 to 31\n",
        "Data columns (total 25 columns):\n",
        "Data                                           32  non-null values\n",
        "Receita Bruta de Vendas e/ou Servi\u00e7os          32  non-null values\n",
        "Dedu\u00e7\u00f5es da Receita Bruta                      32  non-null values\n",
        "Receita L\u00edquida de Vendas e/ou Servi\u00e7os        32  non-null values\n",
        "Custo de Bens e/ou Servi\u00e7os Vendidos           32  non-null values\n",
        "Resultado Bruto                                32  non-null values\n",
        "Despesas Com Vendas                            32  non-null values\n",
        "Despesas Gerais e Administrativas              32  non-null values\n",
        "Perdas pela N\u00e3o Recuperabilidade de Ativos\u00a0    32  non-null values\n",
        "Outras Receitas Operacionais                   32  non-null values\n",
        "Outras Despesas Operacionais                   32  non-null values\n",
        "Resultado da Equival\u00eancia Patrimonial          32  non-null values\n",
        "Financeiras                                    32  non-null values\n",
        "Receitas Financeiras                           32  non-null values\n",
        "Despesas Financeiras                           32  non-null values\n",
        "Resultado N\u00e3o Operacional                      32  non-null values\n",
        "Receitas                                       32  non-null values\n",
        "Despesas                                       32  non-null values\n",
        "Resultado Antes Tributa\u00e7\u00e3o/Participa\u00e7\u00f5es       32  non-null values\n",
        "Provis\u00e3o para IR e Contribui\u00e7\u00e3o Social         32  non-null values\n",
        "IR Diferido                                    32  non-null values\n",
        "Participa\u00e7\u00f5es/Contribui\u00e7\u00f5es Estatut\u00e1rias       32  non-null values\n",
        "Revers\u00e3o dos Juros sobre Capital Pr\u00f3prio       32  non-null values\n",
        "Part. de Acionistas N\u00e3o Controladores          32  non-null values\n",
        "Lucro/Preju\u00edzo do Per\u00edodo                      32  non-null values\n",
        "dtypes: datetime64[ns](1), float64(21), int64(3)\n",
        "</pre>"
       ],
       "metadata": {},
       "output_type": "pyout",
       "prompt_number": 17,
       "text": [
        "<class 'pandas.core.frame.DataFrame'>\n",
        "Int64Index: 32 entries, 0 to 31\n",
        "Data columns (total 25 columns):\n",
        "Data                                           32  non-null values\n",
        "Receita Bruta de Vendas e/ou Servi\u00e7os          32  non-null values\n",
        "Dedu\u00e7\u00f5es da Receita Bruta                      32  non-null values\n",
        "Receita L\u00edquida de Vendas e/ou Servi\u00e7os        32  non-null values\n",
        "Custo de Bens e/ou Servi\u00e7os Vendidos           32  non-null values\n",
        "Resultado Bruto                                32  non-null values\n",
        "Despesas Com Vendas                            32  non-null values\n",
        "Despesas Gerais e Administrativas              32  non-null values\n",
        "Perdas pela N\u00e3o Recuperabilidade de Ativos\u00a0    32  non-null values\n",
        "Outras Receitas Operacionais                   32  non-null values\n",
        "Outras Despesas Operacionais                   32  non-null values\n",
        "Resultado da Equival\u00eancia Patrimonial          32  non-null values\n",
        "Financeiras                                    32  non-null values\n",
        "Receitas Financeiras                           32  non-null values\n",
        "Despesas Financeiras                           32  non-null values\n",
        "Resultado N\u00e3o Operacional                      32  non-null values\n",
        "Receitas                                       32  non-null values\n",
        "Despesas                                       32  non-null values\n",
        "Resultado Antes Tributa\u00e7\u00e3o/Participa\u00e7\u00f5es       32  non-null values\n",
        "Provis\u00e3o para IR e Contribui\u00e7\u00e3o Social         32  non-null values\n",
        "IR Diferido                                    32  non-null values\n",
        "Participa\u00e7\u00f5es/Contribui\u00e7\u00f5es Estatut\u00e1rias       32  non-null values\n",
        "Revers\u00e3o dos Juros sobre Capital Pr\u00f3prio       32  non-null values\n",
        "Part. de Acionistas N\u00e3o Controladores          32  non-null values\n",
        "Lucro/Preju\u00edzo do Per\u00edodo                      32  non-null values\n",
        "dtypes: datetime64[ns](1), float64(21), int64(3)"
       ]
      }
     ],
     "prompt_number": 17
    },
    {
     "cell_type": "markdown",
     "metadata": {},
     "source": [
      "Como podemos observar o ``DataFrame`` ``dem_result`` possui 32 linhas e 25 colunas, das quais: 1 ``datetime64``, 21 ``float64``, e 3 ``int64``.\n",
      "Os campos num\u00e9ricos foram identificados na carga do ``DataFrame``, j\u00e1 o campo data foi identificado utilizando as op\u00e7\u00f5es ``parse_dates=[0]`` e ``dayfirst=True`` indicando que a primeira coluna possui uma data e que na data o primeiro campo era o dia."
     ]
    },
    {
     "cell_type": "code",
     "collapsed": false,
     "input": [
      "dem_result.Data.head()"
     ],
     "language": "python",
     "metadata": {},
     "outputs": [
      {
       "metadata": {},
       "output_type": "pyout",
       "prompt_number": 26,
       "text": [
        "0   2013-09-30 00:00:00\n",
        "1   2013-06-30 00:00:00\n",
        "2   2013-03-31 00:00:00\n",
        "3   2012-12-31 00:00:00\n",
        "4   2012-09-30 00:00:00\n",
        "Name: Data, dtype: datetime64[ns]"
       ]
      }
     ],
     "prompt_number": 26
    },
    {
     "cell_type": "markdown",
     "metadata": {},
     "source": [
      "Agora vamos atacar as colunas! Algumas colunas est\u00e3o com os nomes zoados, com espa\u00e7os, acentos e outros s\u00edmbolos que dificultam a utiliza\u00e7\u00e3o do ``DataFrame``, por isso vamos renomear as colunas que desejamos utilizar. O ``DataFrame`` possui um m\u00e9todo ``rename`` que torna essa tarefa f\u00e1cil-f\u00e1cil."
     ]
    },
    {
     "cell_type": "code",
     "collapsed": false,
     "input": [
      "dem_result = dem_result.rename(columns={'Receita L\u00edquida de Vendas e/ou Servi\u00e7os':'ReceitaLiquida',\n",
      "                           'Lucro/Preju\u00edzo do Per\u00edodo':'LucroLiquido'})\n",
      "oper_result = dem_result.loc[:,['Data', 'ReceitaLiquida', 'LucroLiquido']]\n",
      "oper_result.head()"
     ],
     "language": "python",
     "metadata": {},
     "outputs": [
      {
       "html": [
        "<div style=\"max-height:1000px;max-width:1500px;overflow:auto;\">\n",
        "<table border=\"1\" class=\"dataframe\">\n",
        "  <thead>\n",
        "    <tr style=\"text-align: right;\">\n",
        "      <th></th>\n",
        "      <th>Data</th>\n",
        "      <th>ReceitaLiquida</th>\n",
        "      <th>LucroLiquido</th>\n",
        "    </tr>\n",
        "  </thead>\n",
        "  <tbody>\n",
        "    <tr>\n",
        "      <th>0</th>\n",
        "      <td>2013-09-30 00:00:00</td>\n",
        "      <td> 77700317.18</td>\n",
        "      <td> 3394672.128</td>\n",
        "    </tr>\n",
        "    <tr>\n",
        "      <th>1</th>\n",
        "      <td>2013-06-30 00:00:00</td>\n",
        "      <td> 73626247.17</td>\n",
        "      <td> 6200990.208</td>\n",
        "    </tr>\n",
        "    <tr>\n",
        "      <th>2</th>\n",
        "      <td>2013-03-31 00:00:00</td>\n",
        "      <td> 72535343.10</td>\n",
        "      <td> 7693176.832</td>\n",
        "    </tr>\n",
        "    <tr>\n",
        "      <th>3</th>\n",
        "      <td>2012-12-31 00:00:00</td>\n",
        "      <td> 73405251.58</td>\n",
        "      <td> 7747591.168</td>\n",
        "    </tr>\n",
        "    <tr>\n",
        "      <th>4</th>\n",
        "      <td>2012-09-30 00:00:00</td>\n",
        "      <td> 73792937.98</td>\n",
        "      <td> 5566355.968</td>\n",
        "    </tr>\n",
        "  </tbody>\n",
        "</table>\n",
        "</div>"
       ],
       "metadata": {},
       "output_type": "pyout",
       "prompt_number": 83,
       "text": [
        "                 Data  ReceitaLiquida  LucroLiquido\n",
        "0 2013-09-30 00:00:00     77700317.18   3394672.128\n",
        "1 2013-06-30 00:00:00     73626247.17   6200990.208\n",
        "2 2013-03-31 00:00:00     72535343.10   7693176.832\n",
        "3 2012-12-31 00:00:00     73405251.58   7747591.168\n",
        "4 2012-09-30 00:00:00     73792937.98   5566355.968"
       ]
      }
     ],
     "prompt_number": 83
    },
    {
     "cell_type": "markdown",
     "metadata": {},
     "source": [
      "Ainda criamos outro ``DataFrame`` com as colunas ``Data``, ``ReceitaLiquida``, e ``LucroLiquido``, que s\u00e3o objeto da nossa an\u00e1lise.\n",
      "Vamos agora visualizar a evolu\u00e7\u00e3o dessas grandezas ao longo dos anos e entender um pouco melhor a din\u00e2mica delas."
     ]
    },
    {
     "cell_type": "code",
     "collapsed": false,
     "input": [
      "fig, ax = plt.subplots()\n",
      "rects1 = ax.plot(oper_result.Data, oper_result.LucroLiquido, 'go-')\n",
      "rects2 = ax.plot(oper_result.Data, oper_result.ReceitaLiquida, 'bo-')\n",
      "ax.grid(True)\n",
      "ax.set_title('Receita e Lucro trimestrais')\n",
      "\n",
      "ax.legend( (rects1[0], rects2[0]), ('LucroLiquido', 'ReceitaLiquida'), loc='center right')"
     ],
     "language": "python",
     "metadata": {},
     "outputs": [
      {
       "metadata": {},
       "output_type": "pyout",
       "prompt_number": 134,
       "text": [
        "<matplotlib.legend.Legend at 0x10a710050>"
       ]
      },
      {
       "metadata": {},
       "output_type": "display_data",
       "png": "[encoded data removed]",
       "text": [
        "<matplotlib.figure.Figure at 0x10aa63650>"
       ]
      }
     ],
     "prompt_number": 134
    },
    {
     "cell_type": "markdown",
     "metadata": {},
     "source": [
      "O gr\u00e1fico acima apresenta o resultado operacional da Petrobr\u00e1s. Uma compara\u00e7\u00e3o da sua receita l\u00edquida, ao longo de aproximadamente 8 anos, contra o seu lucro l\u00edquido.\n",
      "No entanto, eu n\u00e3o gosto desses pontinhos e gostaria de ver estes n\u00fameros consolidados por ano.\n"
     ]
    },
    {
     "cell_type": "code",
     "collapsed": false,
     "input": [
      "#oper_result['Ano'] = pd.Series([d.year for d in oper_result.Data], index=oper_result.index)\n",
      "oper_result['Ano'] = [d.year for d in oper_result.Data]\n",
      "anual_result = oper_result.groupby(['Ano'])[['ReceitaLiquida', 'LucroLiquido']].sum()\n",
      "\n",
      "fig, ax = plt.subplots()\n",
      "rects1 = ax.bar(anual_result.index, anual_result.LucroLiquido, 0.35, color='g')\n",
      "rects2 = ax.bar(anual_result.index+0.35, anual_result.ReceitaLiquida, 0.35, color='b')\n",
      "#ax.set_ylabel('')\n",
      "ax.set_title('Receita e Lucro anuais')\n",
      "ax.set_xticks(anual_result.index + 0.35)\n",
      "ax.set_xticklabels( anual_result.index )\n",
      "\n",
      "ax.legend( (rects1[0], rects2[0]), ('LucroLiquido', 'ReceitaLiquida'), loc=2)\n",
      "\n",
      "ax.grid(True)"
     ],
     "language": "python",
     "metadata": {},
     "outputs": [
      {
       "metadata": {},
       "output_type": "display_data",
       "png": "[encoded data removed]",
       "text": [
        "<matplotlib.figure.Figure at 0x10a5ea050>"
       ]
      }
     ],
     "prompt_number": 127
    },
    {
     "cell_type": "markdown",
     "metadata": {},
     "source": [
      "Tarefa relativamente f\u00e1cil com **pandas**, agrupar o ``DataFrame`` por uma coluna e definir qual fun\u00e7\u00e3o deve ser utilizada no agrupamento. No entanto, para mim seria mais intuitivo utilizar uma abordagem mais funcional para o agrupamento.\n",
      "Poderiamos ter algo como\n",
      "\n",
      "    oper_ressult.groupby(['Ano'], ['ReceitaLiquida', 'LucroLiquido'], sum)\n",
      "\n",
      "Eventualmente poderiamos definir transforma\u00e7\u00f5es diferentes para o agrupamento de diferentes colunas.\n",
      "De qualquer forma, o problema est\u00e1 resolvido e foi relativamente f\u00e1cil."
     ]
    },
    {
     "cell_type": "markdown",
     "metadata": {},
     "source": [
      "Bem, essas vari\u00e1veis n\u00e3o s\u00e3o dif\u00edceis de entender. Receita \u00e9 o que a empresa fatura e lucro \u00e9 o que ela p\u00f5e no bolso. N\u00e3o t\u00e1 muito dif\u00edcil ver que a dist\u00e2ncia entre o que a Petrobr\u00e1s ganha e o que ela p\u00f5e no bolso vem aumentando significativamente e n\u00e3o tem m\u00e1gica, esse dinheiro tem que ir pra algum lugar."
     ]
    },
    {
     "cell_type": "code",
     "collapsed": false,
     "input": [
      "dem_result = dem_result.rename(columns={'Despesas Financeiras':'DespesasFinanceiras'})\n",
      "des_result = dem_result.loc[:,['Data', 'DespesasFinanceiras']]\n",
      "idx = des_result.DespesasFinanceiras > 0\n",
      "des_result.DespesasFinanceiras[idx] = -des_result.DespesasFinanceiras[idx]\n",
      "fig, ax = plt.subplots()\n",
      "ax.grid(True)\n",
      "ax.plot(des_result.Data, -des_result.DespesasFinanceiras)\n"
     ],
     "language": "python",
     "metadata": {},
     "outputs": [
      {
       "metadata": {},
       "output_type": "pyout",
       "prompt_number": 89,
       "text": [
        "[<matplotlib.lines.Line2D at 0x10a63e910>]"
       ]
      },
      {
       "metadata": {},
       "output_type": "display_data",
       "png": "[encoded data removed]",
       "text": [
        "<matplotlib.figure.Figure at 0x10a5a59d0>"
       ]
      }
     ],
     "prompt_number": 89
    },
    {
     "cell_type": "code",
     "collapsed": false,
     "input": [
      "import Quandl\n",
      "petr4 = Quandl.get(\"GOOG/BVMF_PETR3\", authtoken='nJ1NhTYdEs2p3MsS4CVd')\n",
      "petr4 = pd.DataFrame(petr4['Close'], index=petr4.index)\n",
      "petr4"
     ],
     "language": "python",
     "metadata": {},
     "outputs": [
      {
       "output_type": "stream",
       "stream": "stdout",
       "text": [
        "Token nJ1NhTYdEs2p3MsS4CVd activated and saved for later use.\n",
        "Returning Dataframe for "
       ]
      },
      {
       "output_type": "stream",
       "stream": "stdout",
       "text": [
        " GOOG/BVMF_PETR3\n"
       ]
      },
      {
       "html": [
        "<pre>\n",
        "&lt;class 'pandas.core.frame.DataFrame'&gt;\n",
        "DatetimeIndex: 2630 entries, 2003-06-02 00:00:00 to 2014-01-13 00:00:00\n",
        "Data columns (total 1 columns):\n",
        "Close    2630  non-null values\n",
        "dtypes: float64(1)\n",
        "</pre>"
       ],
       "metadata": {},
       "output_type": "pyout",
       "prompt_number": 9,
       "text": [
        "<class 'pandas.core.frame.DataFrame'>\n",
        "DatetimeIndex: 2630 entries, 2003-06-02 00:00:00 to 2014-01-13 00:00:00\n",
        "Data columns (total 1 columns):\n",
        "Close    2630  non-null values\n",
        "dtypes: float64(1)"
       ]
      }
     ],
     "prompt_number": 9
    },
    {
     "cell_type": "code",
     "collapsed": false,
     "input": [
      "petr4.plot()"
     ],
     "language": "python",
     "metadata": {},
     "outputs": [
      {
       "metadata": {},
       "output_type": "pyout",
       "prompt_number": 10,
       "text": [
        "<matplotlib.axes.AxesSubplot at 0x1098a7810>"
       ]
      },
      {
       "metadata": {},
       "output_type": "display_data",
       "png": "[encoded data removed]",
       "text": [
        "<matplotlib.figure.Figure at 0x109893bd0>"
       ]
      }
     ],
     "prompt_number": 10
    },
    {
     "cell_type": "code",
     "collapsed": false,
     "input": [
      "petr4.tail(10)"
     ],
     "language": "python",
     "metadata": {},
     "outputs": [
      {
       "html": [
        "<div style=\"max-height:1000px;max-width:1500px;overflow:auto;\">\n",
        "<table border=\"1\" class=\"dataframe\">\n",
        "  <thead>\n",
        "    <tr style=\"text-align: right;\">\n",
        "      <th></th>\n",
        "      <th>Close</th>\n",
        "    </tr>\n",
        "    <tr>\n",
        "      <th>Date</th>\n",
        "      <th></th>\n",
        "    </tr>\n",
        "  </thead>\n",
        "  <tbody>\n",
        "    <tr>\n",
        "      <th>2013-12-27</th>\n",
        "      <td> 15.91</td>\n",
        "    </tr>\n",
        "    <tr>\n",
        "      <th>2013-12-30</th>\n",
        "      <td> 15.99</td>\n",
        "    </tr>\n",
        "    <tr>\n",
        "      <th>2014-01-02</th>\n",
        "      <td> 15.82</td>\n",
        "    </tr>\n",
        "    <tr>\n",
        "      <th>2014-01-03</th>\n",
        "      <td> 15.34</td>\n",
        "    </tr>\n",
        "    <tr>\n",
        "      <th>2014-01-06</th>\n",
        "      <td> 15.69</td>\n",
        "    </tr>\n",
        "    <tr>\n",
        "      <th>2014-01-07</th>\n",
        "      <td> 15.20</td>\n",
        "    </tr>\n",
        "    <tr>\n",
        "      <th>2014-01-08</th>\n",
        "      <td> 15.21</td>\n",
        "    </tr>\n",
        "    <tr>\n",
        "      <th>2014-01-09</th>\n",
        "      <td> 14.80</td>\n",
        "    </tr>\n",
        "    <tr>\n",
        "      <th>2014-01-10</th>\n",
        "      <td> 15.01</td>\n",
        "    </tr>\n",
        "    <tr>\n",
        "      <th>2014-01-13</th>\n",
        "      <td> 14.71</td>\n",
        "    </tr>\n",
        "  </tbody>\n",
        "</table>\n",
        "</div>"
       ],
       "metadata": {},
       "output_type": "pyout",
       "prompt_number": 11,
       "text": [
        "            Close\n",
        "Date             \n",
        "2013-12-27  15.91\n",
        "2013-12-30  15.99\n",
        "2014-01-02  15.82\n",
        "2014-01-03  15.34\n",
        "2014-01-06  15.69\n",
        "2014-01-07  15.20\n",
        "2014-01-08  15.21\n",
        "2014-01-09  14.80\n",
        "2014-01-10  15.01\n",
        "2014-01-13  14.71"
       ]
      }
     ],
     "prompt_number": 11
    },
    {
     "cell_type": "code",
     "collapsed": false,
     "input": [
      "type(petr4)"
     ],
     "language": "python",
     "metadata": {},
     "outputs": [
      {
       "metadata": {},
       "output_type": "pyout",
       "prompt_number": 12,
       "text": [
        "pandas.core.frame.DataFrame"
       ]
      }
     ],
     "prompt_number": 12
    },
    {
     "cell_type": "code",
     "collapsed": false,
     "input": [
      "petr4.columns"
     ],
     "language": "python",
     "metadata": {},
     "outputs": [
      {
       "metadata": {},
       "output_type": "pyout",
       "prompt_number": 13,
       "text": [
        "Index([u'Close'], dtype=object)"
       ]
      }
     ],
     "prompt_number": 13
    },
    {
     "cell_type": "code",
     "collapsed": false,
     "input": [
      "oper_result.join(petr4)"
     ],
     "language": "python",
     "metadata": {},
     "outputs": [
      {
       "html": [
        "<div style=\"max-height:1000px;max-width:1500px;overflow:auto;\">\n",
        "<table border=\"1\" class=\"dataframe\">\n",
        "  <thead>\n",
        "    <tr style=\"text-align: right;\">\n",
        "      <th></th>\n",
        "      <th>ReceitaLiquida</th>\n",
        "      <th>LucroLiquido</th>\n",
        "      <th>Close</th>\n",
        "    </tr>\n",
        "    <tr>\n",
        "      <th>Data</th>\n",
        "      <th></th>\n",
        "      <th></th>\n",
        "      <th></th>\n",
        "    </tr>\n",
        "  </thead>\n",
        "  <tbody>\n",
        "    <tr>\n",
        "      <th>2013-09-30</th>\n",
        "      <td> 77700317.18</td>\n",
        "      <td>  3394672.128</td>\n",
        "      <td> 16.96</td>\n",
        "    </tr>\n",
        "    <tr>\n",
        "      <th>2013-06-30</th>\n",
        "      <td> 73626247.17</td>\n",
        "      <td>  6200990.208</td>\n",
        "      <td>   NaN</td>\n",
        "    </tr>\n",
        "    <tr>\n",
        "      <th>2013-03-31</th>\n",
        "      <td> 72535343.10</td>\n",
        "      <td>  7693176.832</td>\n",
        "      <td>   NaN</td>\n",
        "    </tr>\n",
        "    <tr>\n",
        "      <th>2012-12-31</th>\n",
        "      <td> 73405251.58</td>\n",
        "      <td>  7747591.168</td>\n",
        "      <td>   NaN</td>\n",
        "    </tr>\n",
        "    <tr>\n",
        "      <th>2012-09-30</th>\n",
        "      <td> 73792937.98</td>\n",
        "      <td>  5566355.968</td>\n",
        "      <td>   NaN</td>\n",
        "    </tr>\n",
        "    <tr>\n",
        "      <th>2012-06-30</th>\n",
        "      <td> 68047273.98</td>\n",
        "      <td> -1345726.976</td>\n",
        "      <td>   NaN</td>\n",
        "    </tr>\n",
        "    <tr>\n",
        "      <th>2012-03-31</th>\n",
        "      <td> 66134032.38</td>\n",
        "      <td>  9214221.312</td>\n",
        "      <td>   NaN</td>\n",
        "    </tr>\n",
        "    <tr>\n",
        "      <th>2011-12-31</th>\n",
        "      <td> 63727878.14</td>\n",
        "      <td>  5049274.368</td>\n",
        "      <td>   NaN</td>\n",
        "    </tr>\n",
        "    <tr>\n",
        "      <th>2011-09-30</th>\n",
        "      <td> 64179019.78</td>\n",
        "      <td>  6335919.104</td>\n",
        "      <td> 20.90</td>\n",
        "    </tr>\n",
        "    <tr>\n",
        "      <th>2011-06-30</th>\n",
        "      <td> 61468745.73</td>\n",
        "      <td> 10942937.090</td>\n",
        "      <td> 26.25</td>\n",
        "    </tr>\n",
        "    <tr>\n",
        "      <th>2011-03-31</th>\n",
        "      <td> 54800498.69</td>\n",
        "      <td> 10984964.100</td>\n",
        "      <td> 32.62</td>\n",
        "    </tr>\n",
        "    <tr>\n",
        "      <th>2010-12-31</th>\n",
        "      <td> 54491152.38</td>\n",
        "      <td> 10601650.180</td>\n",
        "      <td>   NaN</td>\n",
        "    </tr>\n",
        "    <tr>\n",
        "      <th>2010-09-30</th>\n",
        "      <td> 54739042.30</td>\n",
        "      <td>  8566452.224</td>\n",
        "      <td> 30.40</td>\n",
        "    </tr>\n",
        "    <tr>\n",
        "      <th>2010-06-30</th>\n",
        "      <td> 53631381.50</td>\n",
        "      <td>  8294989.824</td>\n",
        "      <td> 31.00</td>\n",
        "    </tr>\n",
        "    <tr>\n",
        "      <th>2010-03-31</th>\n",
        "      <td> 50412072.96</td>\n",
        "      <td>  7726274.048</td>\n",
        "      <td> 39.70</td>\n",
        "    </tr>\n",
        "    <tr>\n",
        "      <th>2009-12-31</th>\n",
        "      <td> 47632867.33</td>\n",
        "      <td>  8128872.448</td>\n",
        "      <td>   NaN</td>\n",
        "    </tr>\n",
        "    <tr>\n",
        "      <th>2009-09-30</th>\n",
        "      <td> 47877619.71</td>\n",
        "      <td>  7302567.936</td>\n",
        "      <td> 40.85</td>\n",
        "    </tr>\n",
        "    <tr>\n",
        "      <th>2009-06-30</th>\n",
        "      <td> 44603994.11</td>\n",
        "      <td>  7734496.256</td>\n",
        "      <td> 40.09</td>\n",
        "    </tr>\n",
        "    <tr>\n",
        "      <th>2009-03-31</th>\n",
        "      <td> 42595573.76</td>\n",
        "      <td>  5815772.160</td>\n",
        "      <td> 35.38</td>\n",
        "    </tr>\n",
        "    <tr>\n",
        "      <th>2008-12-31</th>\n",
        "      <td> 46197178.37</td>\n",
        "      <td>  6427518.976</td>\n",
        "      <td>   NaN</td>\n",
        "    </tr>\n",
        "    <tr>\n",
        "      <th>2008-09-30</th>\n",
        "      <td> 67459567.62</td>\n",
        "      <td> 10851884.030</td>\n",
        "      <td> 42.22</td>\n",
        "    </tr>\n",
        "    <tr>\n",
        "      <th>2008-06-30</th>\n",
        "      <td> 54569664.51</td>\n",
        "      <td>  8783326.208</td>\n",
        "      <td> 56.45</td>\n",
        "    </tr>\n",
        "    <tr>\n",
        "      <th>2008-03-31</th>\n",
        "      <td> 46892126.21</td>\n",
        "      <td>  6925062.144</td>\n",
        "      <td> 44.84</td>\n",
        "    </tr>\n",
        "    <tr>\n",
        "      <th>2007-12-31</th>\n",
        "      <td> 45416972.29</td>\n",
        "      <td>  5052535.808</td>\n",
        "      <td>   NaN</td>\n",
        "    </tr>\n",
        "    <tr>\n",
        "      <th>2007-09-30</th>\n",
        "      <td> 44468625.41</td>\n",
        "      <td>  5528181.760</td>\n",
        "      <td>   NaN</td>\n",
        "    </tr>\n",
        "    <tr>\n",
        "      <th>2007-06-30</th>\n",
        "      <td> 41797677.06</td>\n",
        "      <td>  6800352.256</td>\n",
        "      <td>   NaN</td>\n",
        "    </tr>\n",
        "    <tr>\n",
        "      <th>2007-03-31</th>\n",
        "      <td> 38894448.64</td>\n",
        "      <td>  4130718.976</td>\n",
        "      <td>   NaN</td>\n",
        "    </tr>\n",
        "    <tr>\n",
        "      <th>2006-12-31</th>\n",
        "      <td> 41041051.65</td>\n",
        "      <td>  5199859.712</td>\n",
        "      <td>   NaN</td>\n",
        "    </tr>\n",
        "    <tr>\n",
        "      <th>2006-09-30</th>\n",
        "      <td> 43363430.40</td>\n",
        "      <td>  7084611.072</td>\n",
        "      <td>   NaN</td>\n",
        "    </tr>\n",
        "    <tr>\n",
        "      <th>2006-06-30</th>\n",
        "      <td> 37948407.81</td>\n",
        "      <td>  6959458.816</td>\n",
        "      <td> 24.20</td>\n",
        "    </tr>\n",
        "    <tr>\n",
        "      <th>2006-03-31</th>\n",
        "      <td> 35885924.35</td>\n",
        "      <td>  6674991.104</td>\n",
        "      <td> 23.30</td>\n",
        "    </tr>\n",
        "    <tr>\n",
        "      <th>2005-12-31</th>\n",
        "      <td> 39618109.44</td>\n",
        "      <td>  8141880.320</td>\n",
        "      <td>   NaN</td>\n",
        "    </tr>\n",
        "  </tbody>\n",
        "</table>\n",
        "</div>"
       ],
       "metadata": {},
       "output_type": "pyout",
       "prompt_number": 25,
       "text": [
        "            ReceitaLiquida  LucroLiquido  Close\n",
        "Data                                           \n",
        "2013-09-30     77700317.18   3394672.128  16.96\n",
        "2013-06-30     73626247.17   6200990.208    NaN\n",
        "2013-03-31     72535343.10   7693176.832    NaN\n",
        "2012-12-31     73405251.58   7747591.168    NaN\n",
        "2012-09-30     73792937.98   5566355.968    NaN\n",
        "2012-06-30     68047273.98  -1345726.976    NaN\n",
        "2012-03-31     66134032.38   9214221.312    NaN\n",
        "2011-12-31     63727878.14   5049274.368    NaN\n",
        "2011-09-30     64179019.78   6335919.104  20.90\n",
        "2011-06-30     61468745.73  10942937.090  26.25\n",
        "2011-03-31     54800498.69  10984964.100  32.62\n",
        "2010-12-31     54491152.38  10601650.180    NaN\n",
        "2010-09-30     54739042.30   8566452.224  30.40\n",
        "2010-06-30     53631381.50   8294989.824  31.00\n",
        "2010-03-31     50412072.96   7726274.048  39.70\n",
        "2009-12-31     47632867.33   8128872.448    NaN\n",
        "2009-09-30     47877619.71   7302567.936  40.85\n",
        "2009-06-30     44603994.11   7734496.256  40.09\n",
        "2009-03-31     42595573.76   5815772.160  35.38\n",
        "2008-12-31     46197178.37   6427518.976    NaN\n",
        "2008-09-30     67459567.62  10851884.030  42.22\n",
        "2008-06-30     54569664.51   8783326.208  56.45\n",
        "2008-03-31     46892126.21   6925062.144  44.84\n",
        "2007-12-31     45416972.29   5052535.808    NaN\n",
        "2007-09-30     44468625.41   5528181.760    NaN\n",
        "2007-06-30     41797677.06   6800352.256    NaN\n",
        "2007-03-31     38894448.64   4130718.976    NaN\n",
        "2006-12-31     41041051.65   5199859.712    NaN\n",
        "2006-09-30     43363430.40   7084611.072    NaN\n",
        "2006-06-30     37948407.81   6959458.816  24.20\n",
        "2006-03-31     35885924.35   6674991.104  23.30\n",
        "2005-12-31     39618109.44   8141880.320    NaN"
       ]
      }
     ],
     "prompt_number": 25
    },
    {
     "cell_type": "code",
     "collapsed": false,
     "input": [
      "import bizdays\n",
      "cal = bizdays.Calendar('ANBIMA')"
     ],
     "language": "python",
     "metadata": {},
     "outputs": [],
     "prompt_number": 15
    },
    {
     "cell_type": "code",
     "collapsed": false,
     "input": [
      "from datetime import datetime\n",
      "\n",
      "idx = [datetime.strptime(cal.adjust_previous(dt), '%Y-%m-%d') for dt in oper_result.index.format()]\n",
      "\n",
      "oper_result['DataAdj'] = idx\n",
      "\n",
      "oper_result_adj = oper_result.set_index('DataAdj')\n",
      "oper_result_adj = oper_result_adj.join(petr4)\n",
      "oper_result_adj.rename(columns={'Close':'PETR4'}, inplace=True)\n",
      "oper_result_adj"
     ],
     "language": "python",
     "metadata": {},
     "outputs": [
      {
       "html": [
        "<div style=\"max-height:1000px;max-width:1500px;overflow:auto;\">\n",
        "<table border=\"1\" class=\"dataframe\">\n",
        "  <thead>\n",
        "    <tr style=\"text-align: right;\">\n",
        "      <th></th>\n",
        "      <th>ReceitaLiquida</th>\n",
        "      <th>LucroLiquido</th>\n",
        "      <th>PETR4</th>\n",
        "    </tr>\n",
        "    <tr>\n",
        "      <th>DataAdj</th>\n",
        "      <th></th>\n",
        "      <th></th>\n",
        "      <th></th>\n",
        "    </tr>\n",
        "  </thead>\n",
        "  <tbody>\n",
        "    <tr>\n",
        "      <th>2013-09-30</th>\n",
        "      <td> 77700317.18</td>\n",
        "      <td>  3394672.128</td>\n",
        "      <td> 16.96</td>\n",
        "    </tr>\n",
        "    <tr>\n",
        "      <th>2013-06-28</th>\n",
        "      <td> 73626247.17</td>\n",
        "      <td>  6200990.208</td>\n",
        "      <td> 14.81</td>\n",
        "    </tr>\n",
        "    <tr>\n",
        "      <th>2013-03-28</th>\n",
        "      <td> 72535343.10</td>\n",
        "      <td>  7693176.832</td>\n",
        "      <td> 16.85</td>\n",
        "    </tr>\n",
        "    <tr>\n",
        "      <th>2012-12-31</th>\n",
        "      <td> 73405251.58</td>\n",
        "      <td>  7747591.168</td>\n",
        "      <td>   NaN</td>\n",
        "    </tr>\n",
        "    <tr>\n",
        "      <th>2012-09-28</th>\n",
        "      <td> 73792937.98</td>\n",
        "      <td>  5566355.968</td>\n",
        "      <td> 23.30</td>\n",
        "    </tr>\n",
        "    <tr>\n",
        "      <th>2012-06-29</th>\n",
        "      <td> 68047273.98</td>\n",
        "      <td> -1345726.976</td>\n",
        "      <td> 18.90</td>\n",
        "    </tr>\n",
        "    <tr>\n",
        "      <th>2012-03-30</th>\n",
        "      <td> 66134032.38</td>\n",
        "      <td>  9214221.312</td>\n",
        "      <td> 24.30</td>\n",
        "    </tr>\n",
        "    <tr>\n",
        "      <th>2011-12-30</th>\n",
        "      <td> 63727878.14</td>\n",
        "      <td>  5049274.368</td>\n",
        "      <td>   NaN</td>\n",
        "    </tr>\n",
        "    <tr>\n",
        "      <th>2011-09-30</th>\n",
        "      <td> 64179019.78</td>\n",
        "      <td>  6335919.104</td>\n",
        "      <td> 20.90</td>\n",
        "    </tr>\n",
        "    <tr>\n",
        "      <th>2011-06-30</th>\n",
        "      <td> 61468745.73</td>\n",
        "      <td> 10942937.090</td>\n",
        "      <td> 26.25</td>\n",
        "    </tr>\n",
        "    <tr>\n",
        "      <th>2011-03-31</th>\n",
        "      <td> 54800498.69</td>\n",
        "      <td> 10984964.100</td>\n",
        "      <td> 32.62</td>\n",
        "    </tr>\n",
        "    <tr>\n",
        "      <th>2010-12-31</th>\n",
        "      <td> 54491152.38</td>\n",
        "      <td> 10601650.180</td>\n",
        "      <td>   NaN</td>\n",
        "    </tr>\n",
        "    <tr>\n",
        "      <th>2010-09-30</th>\n",
        "      <td> 54739042.30</td>\n",
        "      <td>  8566452.224</td>\n",
        "      <td> 30.40</td>\n",
        "    </tr>\n",
        "    <tr>\n",
        "      <th>2010-06-30</th>\n",
        "      <td> 53631381.50</td>\n",
        "      <td>  8294989.824</td>\n",
        "      <td> 31.00</td>\n",
        "    </tr>\n",
        "    <tr>\n",
        "      <th>2010-03-31</th>\n",
        "      <td> 50412072.96</td>\n",
        "      <td>  7726274.048</td>\n",
        "      <td> 39.70</td>\n",
        "    </tr>\n",
        "    <tr>\n",
        "      <th>2009-12-31</th>\n",
        "      <td> 47632867.33</td>\n",
        "      <td>  8128872.448</td>\n",
        "      <td>   NaN</td>\n",
        "    </tr>\n",
        "    <tr>\n",
        "      <th>2009-09-30</th>\n",
        "      <td> 47877619.71</td>\n",
        "      <td>  7302567.936</td>\n",
        "      <td> 40.85</td>\n",
        "    </tr>\n",
        "    <tr>\n",
        "      <th>2009-06-30</th>\n",
        "      <td> 44603994.11</td>\n",
        "      <td>  7734496.256</td>\n",
        "      <td> 40.09</td>\n",
        "    </tr>\n",
        "    <tr>\n",
        "      <th>2009-03-31</th>\n",
        "      <td> 42595573.76</td>\n",
        "      <td>  5815772.160</td>\n",
        "      <td> 35.38</td>\n",
        "    </tr>\n",
        "    <tr>\n",
        "      <th>2008-12-31</th>\n",
        "      <td> 46197178.37</td>\n",
        "      <td>  6427518.976</td>\n",
        "      <td>   NaN</td>\n",
        "    </tr>\n",
        "    <tr>\n",
        "      <th>2008-09-30</th>\n",
        "      <td> 67459567.62</td>\n",
        "      <td> 10851884.030</td>\n",
        "      <td> 42.22</td>\n",
        "    </tr>\n",
        "    <tr>\n",
        "      <th>2008-06-30</th>\n",
        "      <td> 54569664.51</td>\n",
        "      <td>  8783326.208</td>\n",
        "      <td> 56.45</td>\n",
        "    </tr>\n",
        "    <tr>\n",
        "      <th>2008-03-31</th>\n",
        "      <td> 46892126.21</td>\n",
        "      <td>  6925062.144</td>\n",
        "      <td> 44.84</td>\n",
        "    </tr>\n",
        "    <tr>\n",
        "      <th>2007-12-31</th>\n",
        "      <td> 45416972.29</td>\n",
        "      <td>  5052535.808</td>\n",
        "      <td>   NaN</td>\n",
        "    </tr>\n",
        "    <tr>\n",
        "      <th>2007-09-28</th>\n",
        "      <td> 44468625.41</td>\n",
        "      <td>  5528181.760</td>\n",
        "      <td> 34.65</td>\n",
        "    </tr>\n",
        "    <tr>\n",
        "      <th>2007-06-29</th>\n",
        "      <td> 41797677.06</td>\n",
        "      <td>  6800352.256</td>\n",
        "      <td> 29.39</td>\n",
        "    </tr>\n",
        "    <tr>\n",
        "      <th>2007-03-30</th>\n",
        "      <td> 38894448.64</td>\n",
        "      <td>  4130718.976</td>\n",
        "      <td> 25.87</td>\n",
        "    </tr>\n",
        "    <tr>\n",
        "      <th>2006-12-29</th>\n",
        "      <td> 41041051.65</td>\n",
        "      <td>  5199859.712</td>\n",
        "      <td>   NaN</td>\n",
        "    </tr>\n",
        "    <tr>\n",
        "      <th>2006-09-29</th>\n",
        "      <td> 43363430.40</td>\n",
        "      <td>  7084611.072</td>\n",
        "      <td> 22.68</td>\n",
        "    </tr>\n",
        "    <tr>\n",
        "      <th>2006-06-30</th>\n",
        "      <td> 37948407.81</td>\n",
        "      <td>  6959458.816</td>\n",
        "      <td> 24.20</td>\n",
        "    </tr>\n",
        "    <tr>\n",
        "      <th>2006-03-31</th>\n",
        "      <td> 35885924.35</td>\n",
        "      <td>  6674991.104</td>\n",
        "      <td> 23.30</td>\n",
        "    </tr>\n",
        "    <tr>\n",
        "      <th>2005-12-30</th>\n",
        "      <td> 39618109.44</td>\n",
        "      <td>  8141880.320</td>\n",
        "      <td>   NaN</td>\n",
        "    </tr>\n",
        "  </tbody>\n",
        "</table>\n",
        "</div>"
       ],
       "metadata": {},
       "output_type": "pyout",
       "prompt_number": 16,
       "text": [
        "            ReceitaLiquida  LucroLiquido  PETR4\n",
        "DataAdj                                        \n",
        "2013-09-30     77700317.18   3394672.128  16.96\n",
        "2013-06-28     73626247.17   6200990.208  14.81\n",
        "2013-03-28     72535343.10   7693176.832  16.85\n",
        "2012-12-31     73405251.58   7747591.168    NaN\n",
        "2012-09-28     73792937.98   5566355.968  23.30\n",
        "2012-06-29     68047273.98  -1345726.976  18.90\n",
        "2012-03-30     66134032.38   9214221.312  24.30\n",
        "2011-12-30     63727878.14   5049274.368    NaN\n",
        "2011-09-30     64179019.78   6335919.104  20.90\n",
        "2011-06-30     61468745.73  10942937.090  26.25\n",
        "2011-03-31     54800498.69  10984964.100  32.62\n",
        "2010-12-31     54491152.38  10601650.180    NaN\n",
        "2010-09-30     54739042.30   8566452.224  30.40\n",
        "2010-06-30     53631381.50   8294989.824  31.00\n",
        "2010-03-31     50412072.96   7726274.048  39.70\n",
        "2009-12-31     47632867.33   8128872.448    NaN\n",
        "2009-09-30     47877619.71   7302567.936  40.85\n",
        "2009-06-30     44603994.11   7734496.256  40.09\n",
        "2009-03-31     42595573.76   5815772.160  35.38\n",
        "2008-12-31     46197178.37   6427518.976    NaN\n",
        "2008-09-30     67459567.62  10851884.030  42.22\n",
        "2008-06-30     54569664.51   8783326.208  56.45\n",
        "2008-03-31     46892126.21   6925062.144  44.84\n",
        "2007-12-31     45416972.29   5052535.808    NaN\n",
        "2007-09-28     44468625.41   5528181.760  34.65\n",
        "2007-06-29     41797677.06   6800352.256  29.39\n",
        "2007-03-30     38894448.64   4130718.976  25.87\n",
        "2006-12-29     41041051.65   5199859.712    NaN\n",
        "2006-09-29     43363430.40   7084611.072  22.68\n",
        "2006-06-30     37948407.81   6959458.816  24.20\n",
        "2006-03-31     35885924.35   6674991.104  23.30\n",
        "2005-12-30     39618109.44   8141880.320    NaN"
       ]
      }
     ],
     "prompt_number": 16
    },
    {
     "cell_type": "code",
     "collapsed": false,
     "input": [
      "plt.figure(0)\n",
      "oper_result_adj.ReceitaLiquida.plot()\n",
      "oper_result_adj.LucroLiquido.plot()\n",
      "plt.figure(1)\n",
      "oper_result_adj.PETR4.plot()\n"
     ],
     "language": "python",
     "metadata": {},
     "outputs": [
      {
       "metadata": {},
       "output_type": "pyout",
       "prompt_number": 17,
       "text": [
        "<matplotlib.axes.AxesSubplot at 0x10a26ad50>"
       ]
      },
      {
       "metadata": {},
       "output_type": "display_data",
       "png": "[encoded data removed]",
       "text": [
        "<matplotlib.figure.Figure at 0x109cec550>"
       ]
      },
      {
       "metadata": {},
       "output_type": "display_data",
       "png": "[encoded data removed]",
       "text": [
        "<matplotlib.figure.Figure at 0x10a25e3d0>"
       ]
      }
     ],
     "prompt_number": 17
    },
    {
     "cell_type": "code",
     "collapsed": false,
     "input": [
      "log_petr4 = np.log(petr4)\n",
      "ret_petr4 = log_petr4.diff()\n",
      "ret_petr4.hist()"
     ],
     "language": "python",
     "metadata": {},
     "outputs": [
      {
       "metadata": {},
       "output_type": "pyout",
       "prompt_number": 42,
       "text": [
        "array([[<matplotlib.axes.AxesSubplot object at 0x10a5adc10>]], dtype=object)"
       ]
      },
      {
       "metadata": {},
       "output_type": "display_data",
       "png": "[encoded data removed]",
       "text": [
        "<matplotlib.figure.Figure at 0x10a610e10>"
       ]
      }
     ],
     "prompt_number": 42
    },
    {
     "cell_type": "code",
     "collapsed": false,
     "input": [
      "petr4.Close"
     ],
     "language": "python",
     "metadata": {},
     "outputs": [
      {
       "metadata": {},
       "output_type": "pyout",
       "prompt_number": 43,
       "text": [
        "Date\n",
        "2003-06-02    7.15\n",
        "2003-06-03    7.10\n",
        "2003-06-04    7.34\n",
        "2003-06-05    7.30\n",
        "2003-06-06    7.40\n",
        "2003-06-09    7.20\n",
        "2003-06-10    7.16\n",
        "2003-06-11    7.25\n",
        "2003-06-12    7.35\n",
        "2003-06-13    7.36\n",
        "2003-06-16    7.38\n",
        "2003-06-17    7.40\n",
        "2003-06-18    7.25\n",
        "2003-06-20    6.90\n",
        "2003-06-23    6.79\n",
        "...\n",
        "2013-12-18    15.71\n",
        "2013-12-19    16.05\n",
        "2013-12-20    15.80\n",
        "2013-12-23    15.87\n",
        "2013-12-26    15.80\n",
        "2013-12-27    15.91\n",
        "2013-12-30    15.99\n",
        "2014-01-02    15.82\n",
        "2014-01-03    15.34\n",
        "2014-01-06    15.69\n",
        "2014-01-07    15.20\n",
        "2014-01-08    15.21\n",
        "2014-01-09    14.80\n",
        "2014-01-10    15.01\n",
        "2014-01-13    14.71\n",
        "Name: Close, Length: 2630, dtype: float64"
       ]
      }
     ],
     "prompt_number": 43
    },
    {
     "cell_type": "code",
     "collapsed": false,
     "input": [
      "petr4.index"
     ],
     "language": "python",
     "metadata": {},
     "outputs": [
      {
       "metadata": {},
       "output_type": "pyout",
       "prompt_number": 49,
       "text": [
        "<class 'pandas.tseries.index.DatetimeIndex'>\n",
        "[2003-06-02 00:00:00, ..., 2014-01-13 00:00:00]\n",
        "Length: 2630, Freq: None, Timezone: None"
       ]
      }
     ],
     "prompt_number": 49
    },
    {
     "cell_type": "code",
     "collapsed": false,
     "input": [
      "petr4.Close[pd.Timestamp('2012-12-01'):pd.Timestamp('2012-12-31')]\n",
      "cal.adjust_previous('2012-12-31')"
     ],
     "language": "python",
     "metadata": {},
     "outputs": [
      {
       "metadata": {},
       "output_type": "pyout",
       "prompt_number": 67,
       "text": [
        "'2012-12-31'"
       ]
      }
     ],
     "prompt_number": 67
    },
    {
     "cell_type": "code",
     "collapsed": false,
     "input": [],
     "language": "python",
     "metadata": {},
     "outputs": [],
     "prompt_number": 52
    },
    {
     "cell_type": "code",
     "collapsed": false,
     "input": [],
     "language": "python",
     "metadata": {},
     "outputs": []
    }
   ],
   "metadata": {}
  }
 ]
}